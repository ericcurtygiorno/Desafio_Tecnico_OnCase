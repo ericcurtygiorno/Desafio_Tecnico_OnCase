{
  "nbformat": 4,
  "nbformat_minor": 0,
  "metadata": {
    "colab": {
      "provenance": [],
      "authorship_tag": "ABX9TyPwKtXKKP1DwvHaa1UbYL1A",
      "include_colab_link": true
    },
    "kernelspec": {
      "name": "python3",
      "display_name": "Python 3"
    },
    "language_info": {
      "name": "python"
    }
  },
  "cells": [
    {
      "cell_type": "markdown",
      "metadata": {
        "id": "view-in-github",
        "colab_type": "text"
      },
      "source": [
        "<a href=\"https://colab.research.google.com/github/ericcurtygiorno/Desafio_Tecnico_OnCase/blob/main/Regression.ipynb\" target=\"_parent\"><img src=\"https://colab.research.google.com/assets/colab-badge.svg\" alt=\"Open In Colab\"/></a>"
      ]
    },
    {
      "cell_type": "code",
      "execution_count": null,
      "metadata": {
        "id": "5aKWZRC-F0tB"
      },
      "outputs": [],
      "source": [
        "import pandas as pd\n",
        "import numpy as np\n",
        "import matplotlib.pyplot as plt\n",
        "import seaborn as sns\n",
        "\n",
        "from sklearn.model_selection import GridSearchCV\n",
        "from sklearn.linear_model import LinearRegression\n",
        "from sklearn.svm import SVR\n",
        "from sklearn.preprocessing import StandardScaler\n",
        "from xgboost import XGBRegressor\n",
        "from sklearn.metrics import mean_squared_error, r2_score\n",
        "\n",
        "\n",
        "sns.set(rc={'figure.figsize':(6,4)})\n",
        "import warnings\n",
        "warnings.simplefilter(\"ignore\")"
      ]
    },
    {
      "cell_type": "code",
      "source": [
        "train = pd.read_csv('/content/regression_train.csv')\n",
        "test = pd.read_csv('/content/regression_test.csv')"
      ],
      "metadata": {
        "id": "fOR9aLwBGDtq"
      },
      "execution_count": null,
      "outputs": []
    },
    {
      "cell_type": "code",
      "source": [
        "train.describe()"
      ],
      "metadata": {
        "colab": {
          "base_uri": "https://localhost:8080/",
          "height": 300
        },
        "id": "viT6qg29GLW-",
        "outputId": "f9544e82-98e4-401e-c032-e2905df5abcd"
      },
      "execution_count": null,
      "outputs": [
        {
          "output_type": "execute_result",
          "data": {
            "text/plain": [
              "             target           X1           X2           X3           X4  \\\n",
              "count    715.000000  1042.000000  1031.000000  1042.000000  1042.000000   \n",
              "mean    1349.940229     2.421925    -0.460781    52.094329     2.462871   \n",
              "std     1593.201095     3.182976     4.426286    31.374828     2.541632   \n",
              "min        0.062551    -8.699406   -13.651540    38.035456     0.002360   \n",
              "25%      230.632308     0.170590    -3.307931    47.087106     0.671196   \n",
              "50%      808.374368     2.508671    -0.461150    49.972867     1.652609   \n",
              "75%     1849.754221     4.540218     2.406651    52.674305     3.361181   \n",
              "max    10382.469480    12.380693    12.926106   500.000000    18.813009   \n",
              "\n",
              "                X5           X6           X7  \n",
              "count  1042.000000  1042.000000  1042.000000  \n",
              "mean    -65.284233     4.381958    -1.287435  \n",
              "std       9.033489     3.290306    11.066380  \n",
              "min    -121.450423     0.000000   -69.835905  \n",
              "25%     -69.126630     0.000000    -7.830007  \n",
              "50%     -65.360660     5.000000    -1.074191  \n",
              "75%     -61.187635     8.000000     5.659476  \n",
              "max      53.919202     8.000000    30.376348  "
            ],
            "text/html": [
              "\n",
              "  <div id=\"df-a10b72ab-0fa3-4acb-b864-3ca411e3ba5a\">\n",
              "    <div class=\"colab-df-container\">\n",
              "      <div>\n",
              "<style scoped>\n",
              "    .dataframe tbody tr th:only-of-type {\n",
              "        vertical-align: middle;\n",
              "    }\n",
              "\n",
              "    .dataframe tbody tr th {\n",
              "        vertical-align: top;\n",
              "    }\n",
              "\n",
              "    .dataframe thead th {\n",
              "        text-align: right;\n",
              "    }\n",
              "</style>\n",
              "<table border=\"1\" class=\"dataframe\">\n",
              "  <thead>\n",
              "    <tr style=\"text-align: right;\">\n",
              "      <th></th>\n",
              "      <th>target</th>\n",
              "      <th>X1</th>\n",
              "      <th>X2</th>\n",
              "      <th>X3</th>\n",
              "      <th>X4</th>\n",
              "      <th>X5</th>\n",
              "      <th>X6</th>\n",
              "      <th>X7</th>\n",
              "    </tr>\n",
              "  </thead>\n",
              "  <tbody>\n",
              "    <tr>\n",
              "      <th>count</th>\n",
              "      <td>715.000000</td>\n",
              "      <td>1042.000000</td>\n",
              "      <td>1031.000000</td>\n",
              "      <td>1042.000000</td>\n",
              "      <td>1042.000000</td>\n",
              "      <td>1042.000000</td>\n",
              "      <td>1042.000000</td>\n",
              "      <td>1042.000000</td>\n",
              "    </tr>\n",
              "    <tr>\n",
              "      <th>mean</th>\n",
              "      <td>1349.940229</td>\n",
              "      <td>2.421925</td>\n",
              "      <td>-0.460781</td>\n",
              "      <td>52.094329</td>\n",
              "      <td>2.462871</td>\n",
              "      <td>-65.284233</td>\n",
              "      <td>4.381958</td>\n",
              "      <td>-1.287435</td>\n",
              "    </tr>\n",
              "    <tr>\n",
              "      <th>std</th>\n",
              "      <td>1593.201095</td>\n",
              "      <td>3.182976</td>\n",
              "      <td>4.426286</td>\n",
              "      <td>31.374828</td>\n",
              "      <td>2.541632</td>\n",
              "      <td>9.033489</td>\n",
              "      <td>3.290306</td>\n",
              "      <td>11.066380</td>\n",
              "    </tr>\n",
              "    <tr>\n",
              "      <th>min</th>\n",
              "      <td>0.062551</td>\n",
              "      <td>-8.699406</td>\n",
              "      <td>-13.651540</td>\n",
              "      <td>38.035456</td>\n",
              "      <td>0.002360</td>\n",
              "      <td>-121.450423</td>\n",
              "      <td>0.000000</td>\n",
              "      <td>-69.835905</td>\n",
              "    </tr>\n",
              "    <tr>\n",
              "      <th>25%</th>\n",
              "      <td>230.632308</td>\n",
              "      <td>0.170590</td>\n",
              "      <td>-3.307931</td>\n",
              "      <td>47.087106</td>\n",
              "      <td>0.671196</td>\n",
              "      <td>-69.126630</td>\n",
              "      <td>0.000000</td>\n",
              "      <td>-7.830007</td>\n",
              "    </tr>\n",
              "    <tr>\n",
              "      <th>50%</th>\n",
              "      <td>808.374368</td>\n",
              "      <td>2.508671</td>\n",
              "      <td>-0.461150</td>\n",
              "      <td>49.972867</td>\n",
              "      <td>1.652609</td>\n",
              "      <td>-65.360660</td>\n",
              "      <td>5.000000</td>\n",
              "      <td>-1.074191</td>\n",
              "    </tr>\n",
              "    <tr>\n",
              "      <th>75%</th>\n",
              "      <td>1849.754221</td>\n",
              "      <td>4.540218</td>\n",
              "      <td>2.406651</td>\n",
              "      <td>52.674305</td>\n",
              "      <td>3.361181</td>\n",
              "      <td>-61.187635</td>\n",
              "      <td>8.000000</td>\n",
              "      <td>5.659476</td>\n",
              "    </tr>\n",
              "    <tr>\n",
              "      <th>max</th>\n",
              "      <td>10382.469480</td>\n",
              "      <td>12.380693</td>\n",
              "      <td>12.926106</td>\n",
              "      <td>500.000000</td>\n",
              "      <td>18.813009</td>\n",
              "      <td>53.919202</td>\n",
              "      <td>8.000000</td>\n",
              "      <td>30.376348</td>\n",
              "    </tr>\n",
              "  </tbody>\n",
              "</table>\n",
              "</div>\n",
              "      <button class=\"colab-df-convert\" onclick=\"convertToInteractive('df-a10b72ab-0fa3-4acb-b864-3ca411e3ba5a')\"\n",
              "              title=\"Convert this dataframe to an interactive table.\"\n",
              "              style=\"display:none;\">\n",
              "        \n",
              "  <svg xmlns=\"http://www.w3.org/2000/svg\" height=\"24px\"viewBox=\"0 0 24 24\"\n",
              "       width=\"24px\">\n",
              "    <path d=\"M0 0h24v24H0V0z\" fill=\"none\"/>\n",
              "    <path d=\"M18.56 5.44l.94 2.06.94-2.06 2.06-.94-2.06-.94-.94-2.06-.94 2.06-2.06.94zm-11 1L8.5 8.5l.94-2.06 2.06-.94-2.06-.94L8.5 2.5l-.94 2.06-2.06.94zm10 10l.94 2.06.94-2.06 2.06-.94-2.06-.94-.94-2.06-.94 2.06-2.06.94z\"/><path d=\"M17.41 7.96l-1.37-1.37c-.4-.4-.92-.59-1.43-.59-.52 0-1.04.2-1.43.59L10.3 9.45l-7.72 7.72c-.78.78-.78 2.05 0 2.83L4 21.41c.39.39.9.59 1.41.59.51 0 1.02-.2 1.41-.59l7.78-7.78 2.81-2.81c.8-.78.8-2.07 0-2.86zM5.41 20L4 18.59l7.72-7.72 1.47 1.35L5.41 20z\"/>\n",
              "  </svg>\n",
              "      </button>\n",
              "      \n",
              "  <style>\n",
              "    .colab-df-container {\n",
              "      display:flex;\n",
              "      flex-wrap:wrap;\n",
              "      gap: 12px;\n",
              "    }\n",
              "\n",
              "    .colab-df-convert {\n",
              "      background-color: #E8F0FE;\n",
              "      border: none;\n",
              "      border-radius: 50%;\n",
              "      cursor: pointer;\n",
              "      display: none;\n",
              "      fill: #1967D2;\n",
              "      height: 32px;\n",
              "      padding: 0 0 0 0;\n",
              "      width: 32px;\n",
              "    }\n",
              "\n",
              "    .colab-df-convert:hover {\n",
              "      background-color: #E2EBFA;\n",
              "      box-shadow: 0px 1px 2px rgba(60, 64, 67, 0.3), 0px 1px 3px 1px rgba(60, 64, 67, 0.15);\n",
              "      fill: #174EA6;\n",
              "    }\n",
              "\n",
              "    [theme=dark] .colab-df-convert {\n",
              "      background-color: #3B4455;\n",
              "      fill: #D2E3FC;\n",
              "    }\n",
              "\n",
              "    [theme=dark] .colab-df-convert:hover {\n",
              "      background-color: #434B5C;\n",
              "      box-shadow: 0px 1px 3px 1px rgba(0, 0, 0, 0.15);\n",
              "      filter: drop-shadow(0px 1px 2px rgba(0, 0, 0, 0.3));\n",
              "      fill: #FFFFFF;\n",
              "    }\n",
              "  </style>\n",
              "\n",
              "      <script>\n",
              "        const buttonEl =\n",
              "          document.querySelector('#df-a10b72ab-0fa3-4acb-b864-3ca411e3ba5a button.colab-df-convert');\n",
              "        buttonEl.style.display =\n",
              "          google.colab.kernel.accessAllowed ? 'block' : 'none';\n",
              "\n",
              "        async function convertToInteractive(key) {\n",
              "          const element = document.querySelector('#df-a10b72ab-0fa3-4acb-b864-3ca411e3ba5a');\n",
              "          const dataTable =\n",
              "            await google.colab.kernel.invokeFunction('convertToInteractive',\n",
              "                                                     [key], {});\n",
              "          if (!dataTable) return;\n",
              "\n",
              "          const docLinkHtml = 'Like what you see? Visit the ' +\n",
              "            '<a target=\"_blank\" href=https://colab.research.google.com/notebooks/data_table.ipynb>data table notebook</a>'\n",
              "            + ' to learn more about interactive tables.';\n",
              "          element.innerHTML = '';\n",
              "          dataTable['output_type'] = 'display_data';\n",
              "          await google.colab.output.renderOutput(dataTable, element);\n",
              "          const docLink = document.createElement('div');\n",
              "          docLink.innerHTML = docLinkHtml;\n",
              "          element.appendChild(docLink);\n",
              "        }\n",
              "      </script>\n",
              "    </div>\n",
              "  </div>\n",
              "  "
            ]
          },
          "metadata": {},
          "execution_count": 59
        }
      ]
    },
    {
      "cell_type": "code",
      "source": [
        "test.describe()"
      ],
      "metadata": {
        "colab": {
          "base_uri": "https://localhost:8080/",
          "height": 300
        },
        "id": "dK1U_t0cGMUY",
        "outputId": "49f4a040-985b-46ab-bf53-7f3c1f7b8c0c"
      },
      "execution_count": null,
      "outputs": [
        {
          "output_type": "execute_result",
          "data": {
            "text/plain": [
              "            target          X1          X2          X3          X4  \\\n",
              "count   180.000000  261.000000  261.000000  261.000000  261.000000   \n",
              "mean   1083.167620    2.118804   -0.729926   50.019371    2.570686   \n",
              "std    1266.764414    2.924070    4.065920    4.109684    2.456733   \n",
              "min       0.619759   -7.187993  -12.530861   38.282205    0.017793   \n",
              "25%     203.306229    0.220241   -3.113019   47.368662    0.798704   \n",
              "50%     623.905972    2.038765   -0.816475   50.070453    1.824582   \n",
              "75%    1522.742335    4.008733    1.836272   52.659709    3.587555   \n",
              "max    8270.877273    9.586412   11.610249   65.704951   16.798910   \n",
              "\n",
              "               X5          X6          X7  \n",
              "count  261.000000  261.000000  261.000000  \n",
              "mean   -65.634193    4.153257   -1.896956  \n",
              "std      7.827388    3.345416   10.133573  \n",
              "min   -123.280755    0.000000  -56.751775  \n",
              "25%    -69.361831    0.000000   -7.315595  \n",
              "50%    -65.517502    5.000000   -1.918715  \n",
              "75%    -61.681399    8.000000    4.315239  \n",
              "max    -43.237419    8.000000   27.284085  "
            ],
            "text/html": [
              "\n",
              "  <div id=\"df-cfdfe415-d268-4ae0-8269-6517ce43c838\">\n",
              "    <div class=\"colab-df-container\">\n",
              "      <div>\n",
              "<style scoped>\n",
              "    .dataframe tbody tr th:only-of-type {\n",
              "        vertical-align: middle;\n",
              "    }\n",
              "\n",
              "    .dataframe tbody tr th {\n",
              "        vertical-align: top;\n",
              "    }\n",
              "\n",
              "    .dataframe thead th {\n",
              "        text-align: right;\n",
              "    }\n",
              "</style>\n",
              "<table border=\"1\" class=\"dataframe\">\n",
              "  <thead>\n",
              "    <tr style=\"text-align: right;\">\n",
              "      <th></th>\n",
              "      <th>target</th>\n",
              "      <th>X1</th>\n",
              "      <th>X2</th>\n",
              "      <th>X3</th>\n",
              "      <th>X4</th>\n",
              "      <th>X5</th>\n",
              "      <th>X6</th>\n",
              "      <th>X7</th>\n",
              "    </tr>\n",
              "  </thead>\n",
              "  <tbody>\n",
              "    <tr>\n",
              "      <th>count</th>\n",
              "      <td>180.000000</td>\n",
              "      <td>261.000000</td>\n",
              "      <td>261.000000</td>\n",
              "      <td>261.000000</td>\n",
              "      <td>261.000000</td>\n",
              "      <td>261.000000</td>\n",
              "      <td>261.000000</td>\n",
              "      <td>261.000000</td>\n",
              "    </tr>\n",
              "    <tr>\n",
              "      <th>mean</th>\n",
              "      <td>1083.167620</td>\n",
              "      <td>2.118804</td>\n",
              "      <td>-0.729926</td>\n",
              "      <td>50.019371</td>\n",
              "      <td>2.570686</td>\n",
              "      <td>-65.634193</td>\n",
              "      <td>4.153257</td>\n",
              "      <td>-1.896956</td>\n",
              "    </tr>\n",
              "    <tr>\n",
              "      <th>std</th>\n",
              "      <td>1266.764414</td>\n",
              "      <td>2.924070</td>\n",
              "      <td>4.065920</td>\n",
              "      <td>4.109684</td>\n",
              "      <td>2.456733</td>\n",
              "      <td>7.827388</td>\n",
              "      <td>3.345416</td>\n",
              "      <td>10.133573</td>\n",
              "    </tr>\n",
              "    <tr>\n",
              "      <th>min</th>\n",
              "      <td>0.619759</td>\n",
              "      <td>-7.187993</td>\n",
              "      <td>-12.530861</td>\n",
              "      <td>38.282205</td>\n",
              "      <td>0.017793</td>\n",
              "      <td>-123.280755</td>\n",
              "      <td>0.000000</td>\n",
              "      <td>-56.751775</td>\n",
              "    </tr>\n",
              "    <tr>\n",
              "      <th>25%</th>\n",
              "      <td>203.306229</td>\n",
              "      <td>0.220241</td>\n",
              "      <td>-3.113019</td>\n",
              "      <td>47.368662</td>\n",
              "      <td>0.798704</td>\n",
              "      <td>-69.361831</td>\n",
              "      <td>0.000000</td>\n",
              "      <td>-7.315595</td>\n",
              "    </tr>\n",
              "    <tr>\n",
              "      <th>50%</th>\n",
              "      <td>623.905972</td>\n",
              "      <td>2.038765</td>\n",
              "      <td>-0.816475</td>\n",
              "      <td>50.070453</td>\n",
              "      <td>1.824582</td>\n",
              "      <td>-65.517502</td>\n",
              "      <td>5.000000</td>\n",
              "      <td>-1.918715</td>\n",
              "    </tr>\n",
              "    <tr>\n",
              "      <th>75%</th>\n",
              "      <td>1522.742335</td>\n",
              "      <td>4.008733</td>\n",
              "      <td>1.836272</td>\n",
              "      <td>52.659709</td>\n",
              "      <td>3.587555</td>\n",
              "      <td>-61.681399</td>\n",
              "      <td>8.000000</td>\n",
              "      <td>4.315239</td>\n",
              "    </tr>\n",
              "    <tr>\n",
              "      <th>max</th>\n",
              "      <td>8270.877273</td>\n",
              "      <td>9.586412</td>\n",
              "      <td>11.610249</td>\n",
              "      <td>65.704951</td>\n",
              "      <td>16.798910</td>\n",
              "      <td>-43.237419</td>\n",
              "      <td>8.000000</td>\n",
              "      <td>27.284085</td>\n",
              "    </tr>\n",
              "  </tbody>\n",
              "</table>\n",
              "</div>\n",
              "      <button class=\"colab-df-convert\" onclick=\"convertToInteractive('df-cfdfe415-d268-4ae0-8269-6517ce43c838')\"\n",
              "              title=\"Convert this dataframe to an interactive table.\"\n",
              "              style=\"display:none;\">\n",
              "        \n",
              "  <svg xmlns=\"http://www.w3.org/2000/svg\" height=\"24px\"viewBox=\"0 0 24 24\"\n",
              "       width=\"24px\">\n",
              "    <path d=\"M0 0h24v24H0V0z\" fill=\"none\"/>\n",
              "    <path d=\"M18.56 5.44l.94 2.06.94-2.06 2.06-.94-2.06-.94-.94-2.06-.94 2.06-2.06.94zm-11 1L8.5 8.5l.94-2.06 2.06-.94-2.06-.94L8.5 2.5l-.94 2.06-2.06.94zm10 10l.94 2.06.94-2.06 2.06-.94-2.06-.94-.94-2.06-.94 2.06-2.06.94z\"/><path d=\"M17.41 7.96l-1.37-1.37c-.4-.4-.92-.59-1.43-.59-.52 0-1.04.2-1.43.59L10.3 9.45l-7.72 7.72c-.78.78-.78 2.05 0 2.83L4 21.41c.39.39.9.59 1.41.59.51 0 1.02-.2 1.41-.59l7.78-7.78 2.81-2.81c.8-.78.8-2.07 0-2.86zM5.41 20L4 18.59l7.72-7.72 1.47 1.35L5.41 20z\"/>\n",
              "  </svg>\n",
              "      </button>\n",
              "      \n",
              "  <style>\n",
              "    .colab-df-container {\n",
              "      display:flex;\n",
              "      flex-wrap:wrap;\n",
              "      gap: 12px;\n",
              "    }\n",
              "\n",
              "    .colab-df-convert {\n",
              "      background-color: #E8F0FE;\n",
              "      border: none;\n",
              "      border-radius: 50%;\n",
              "      cursor: pointer;\n",
              "      display: none;\n",
              "      fill: #1967D2;\n",
              "      height: 32px;\n",
              "      padding: 0 0 0 0;\n",
              "      width: 32px;\n",
              "    }\n",
              "\n",
              "    .colab-df-convert:hover {\n",
              "      background-color: #E2EBFA;\n",
              "      box-shadow: 0px 1px 2px rgba(60, 64, 67, 0.3), 0px 1px 3px 1px rgba(60, 64, 67, 0.15);\n",
              "      fill: #174EA6;\n",
              "    }\n",
              "\n",
              "    [theme=dark] .colab-df-convert {\n",
              "      background-color: #3B4455;\n",
              "      fill: #D2E3FC;\n",
              "    }\n",
              "\n",
              "    [theme=dark] .colab-df-convert:hover {\n",
              "      background-color: #434B5C;\n",
              "      box-shadow: 0px 1px 3px 1px rgba(0, 0, 0, 0.15);\n",
              "      filter: drop-shadow(0px 1px 2px rgba(0, 0, 0, 0.3));\n",
              "      fill: #FFFFFF;\n",
              "    }\n",
              "  </style>\n",
              "\n",
              "      <script>\n",
              "        const buttonEl =\n",
              "          document.querySelector('#df-cfdfe415-d268-4ae0-8269-6517ce43c838 button.colab-df-convert');\n",
              "        buttonEl.style.display =\n",
              "          google.colab.kernel.accessAllowed ? 'block' : 'none';\n",
              "\n",
              "        async function convertToInteractive(key) {\n",
              "          const element = document.querySelector('#df-cfdfe415-d268-4ae0-8269-6517ce43c838');\n",
              "          const dataTable =\n",
              "            await google.colab.kernel.invokeFunction('convertToInteractive',\n",
              "                                                     [key], {});\n",
              "          if (!dataTable) return;\n",
              "\n",
              "          const docLinkHtml = 'Like what you see? Visit the ' +\n",
              "            '<a target=\"_blank\" href=https://colab.research.google.com/notebooks/data_table.ipynb>data table notebook</a>'\n",
              "            + ' to learn more about interactive tables.';\n",
              "          element.innerHTML = '';\n",
              "          dataTable['output_type'] = 'display_data';\n",
              "          await google.colab.output.renderOutput(dataTable, element);\n",
              "          const docLink = document.createElement('div');\n",
              "          docLink.innerHTML = docLinkHtml;\n",
              "          element.appendChild(docLink);\n",
              "        }\n",
              "      </script>\n",
              "    </div>\n",
              "  </div>\n",
              "  "
            ]
          },
          "metadata": {},
          "execution_count": 60
        }
      ]
    },
    {
      "cell_type": "code",
      "source": [
        "train.duplicated().sum()"
      ],
      "metadata": {
        "colab": {
          "base_uri": "https://localhost:8080/"
        },
        "id": "ct3Ct_ejnYqP",
        "outputId": "be4d7225-5804-4e54-97ed-1da844fb9937"
      },
      "execution_count": null,
      "outputs": [
        {
          "output_type": "execute_result",
          "data": {
            "text/plain": [
              "0"
            ]
          },
          "metadata": {},
          "execution_count": 61
        }
      ]
    },
    {
      "cell_type": "code",
      "source": [
        "test.duplicated().sum()"
      ],
      "metadata": {
        "colab": {
          "base_uri": "https://localhost:8080/"
        },
        "id": "NCuIA4efne7-",
        "outputId": "75a8eb23-29a7-4241-c87a-9e4d2553fcb9"
      },
      "execution_count": null,
      "outputs": [
        {
          "output_type": "execute_result",
          "data": {
            "text/plain": [
              "0"
            ]
          },
          "metadata": {},
          "execution_count": 62
        }
      ]
    },
    {
      "cell_type": "code",
      "source": [
        "train.isnull().sum()"
      ],
      "metadata": {
        "colab": {
          "base_uri": "https://localhost:8080/"
        },
        "id": "gzLvG0HUnOFJ",
        "outputId": "0b80c13c-1ab4-4386-be81-df74a6bc1351"
      },
      "execution_count": null,
      "outputs": [
        {
          "output_type": "execute_result",
          "data": {
            "text/plain": [
              "target    327\n",
              "X1          0\n",
              "X2         11\n",
              "X3          0\n",
              "X4          0\n",
              "X5          0\n",
              "X6          0\n",
              "X7          0\n",
              "dtype: int64"
            ]
          },
          "metadata": {},
          "execution_count": 63
        }
      ]
    },
    {
      "cell_type": "code",
      "source": [
        "test.isnull().sum()"
      ],
      "metadata": {
        "colab": {
          "base_uri": "https://localhost:8080/"
        },
        "id": "LfBHlkZinTZa",
        "outputId": "61619b13-15ce-4e11-f3e8-e1f443402495"
      },
      "execution_count": null,
      "outputs": [
        {
          "output_type": "execute_result",
          "data": {
            "text/plain": [
              "target    81\n",
              "X1         0\n",
              "X2         0\n",
              "X3         0\n",
              "X4         0\n",
              "X5         0\n",
              "X6         0\n",
              "X7         0\n",
              "dtype: int64"
            ]
          },
          "metadata": {},
          "execution_count": 64
        }
      ]
    },
    {
      "cell_type": "code",
      "source": [
        "train = train.dropna()"
      ],
      "metadata": {
        "id": "PNF1DDjTnkIZ"
      },
      "execution_count": null,
      "outputs": []
    },
    {
      "cell_type": "code",
      "source": [
        "test = test.dropna()"
      ],
      "metadata": {
        "id": "Kl-agmq2oC8D"
      },
      "execution_count": null,
      "outputs": []
    },
    {
      "cell_type": "code",
      "source": [
        "X_train = train.drop('target', axis=1)\n",
        "X_test = test.drop('target', axis=1)\n",
        "y_train = train['target']\n",
        "y_test = test['target']"
      ],
      "metadata": {
        "id": "DI5pTWe6Gf5c"
      },
      "execution_count": null,
      "outputs": []
    },
    {
      "cell_type": "markdown",
      "source": [
        "## Normalização das variáveis\n",
        "\n"
      ],
      "metadata": {
        "id": "B11N5qs3GmWC"
      }
    },
    {
      "cell_type": "code",
      "source": [
        "scaler = StandardScaler()\n",
        "scaler.fit(X_train)\n",
        "\n",
        "X_train_scaled = scaler.transform(X_train)\n",
        "X_test_scaled = scaler.transform(X_test)\n",
        "\n",
        "# Transformando para dataframe para visualização\n",
        "X_train = pd.DataFrame(X_train_scaled,columns = X_train.columns)\n",
        "X_test = pd.DataFrame(X_test_scaled,columns = X_test.columns)"
      ],
      "metadata": {
        "id": "ZKeh9qIBmrCt"
      },
      "execution_count": null,
      "outputs": []
    },
    {
      "cell_type": "markdown",
      "source": [
        "## Regressão Linear"
      ],
      "metadata": {
        "id": "jXpnVZiuoSbS"
      }
    },
    {
      "cell_type": "code",
      "source": [
        "regLinear = LinearRegression().fit(X_train, y_train)\n",
        "yLinear = regLinear.predict(X_test)\n",
        "RMSELinear = mean_squared_error(y_test, yLinear, squared=False)\n",
        "R2Linear = r2_score(y_test, yLinear)\n",
        "print(\"RMSE:\", RMSELinear)\n",
        "print(\"R2:\", R2Linear)"
      ],
      "metadata": {
        "id": "zXmZRo6VoREJ",
        "colab": {
          "base_uri": "https://localhost:8080/"
        },
        "outputId": "ac144d9c-315b-4999-d5a8-92eb3cfdb2a2"
      },
      "execution_count": null,
      "outputs": [
        {
          "output_type": "stream",
          "name": "stdout",
          "text": [
            "RMSE: 404.20243974379787\n",
            "R2: 0.8976175245733276\n"
          ]
        }
      ]
    },
    {
      "cell_type": "code",
      "source": [],
      "metadata": {
        "id": "wsIGWPZJeEnL"
      },
      "execution_count": null,
      "outputs": []
    },
    {
      "cell_type": "markdown",
      "source": [
        "## Support Vector Regression"
      ],
      "metadata": {
        "id": "rH7GQNb6epnh"
      }
    },
    {
      "cell_type": "code",
      "source": [
        "regSVR = SVR().fit(X_train, y_train)\n",
        "ySVR = regSVR.predict(X_test)\n",
        "RMSESVR = mean_squared_error(y_test, ySVR, squared=False)\n",
        "R2SVR = r2_score(y_test, ySVR)\n",
        "print(\"RMSE:\", RMSESVR)\n",
        "print(\"R2:\", R2SVR)"
      ],
      "metadata": {
        "colab": {
          "base_uri": "https://localhost:8080/"
        },
        "id": "-y98s7dmeyMz",
        "outputId": "e2084b57-c49d-4863-c6cd-e89520550501"
      },
      "execution_count": null,
      "outputs": [
        {
          "output_type": "stream",
          "name": "stdout",
          "text": [
            "RMSE: 1252.8082370765107\n",
            "R2: 0.01644881718107538\n"
          ]
        }
      ]
    },
    {
      "cell_type": "code",
      "source": [],
      "metadata": {
        "id": "wWXQ5Pp2fP88"
      },
      "execution_count": null,
      "outputs": []
    },
    {
      "cell_type": "markdown",
      "source": [
        "## Decision Tree Regression (XGBoost) -> O melhor resultado entre os 3 modelos"
      ],
      "metadata": {
        "id": "uGVX2r3QfYs5"
      }
    },
    {
      "cell_type": "code",
      "source": [
        "regXGB = XGBRegressor().fit(X_train, y_train)\n",
        "yXGB = regXGB.predict(X_test)\n",
        "RMSEXGB = mean_squared_error(y_test, yXGB, squared=False)\n",
        "R2XGB = r2_score(y_test, yXGB)\n",
        "print(\"RMSE:\", RMSEXGB)\n",
        "print(\"R2:\", R2XGB)"
      ],
      "metadata": {
        "colab": {
          "base_uri": "https://localhost:8080/"
        },
        "id": "mBWgxDK5fcYT",
        "outputId": "e67c2020-042a-4390-bc2b-72b65b372724"
      },
      "execution_count": null,
      "outputs": [
        {
          "output_type": "stream",
          "name": "stdout",
          "text": [
            "[13:50:33] WARNING: /workspace/src/objective/regression_obj.cu:152: reg:linear is now deprecated in favor of reg:squarederror.\n",
            "RMSE: 97.81524854212032\n",
            "R2: 0.9940042862521397\n"
          ]
        }
      ]
    },
    {
      "cell_type": "code",
      "source": [],
      "metadata": {
        "id": "2TI5u-Exfs4q"
      },
      "execution_count": null,
      "outputs": []
    },
    {
      "cell_type": "markdown",
      "source": [
        "## Otimização de Hiperparâmetros"
      ],
      "metadata": {
        "id": "-ILXnpgPfsbV"
      }
    },
    {
      "cell_type": "code",
      "source": [
        "regXGB.get_params().keys()"
      ],
      "metadata": {
        "colab": {
          "base_uri": "https://localhost:8080/"
        },
        "id": "Fya5vbyxgEXl",
        "outputId": "a24e2e07-27c0-47c5-efa6-56723aae56a3"
      },
      "execution_count": null,
      "outputs": [
        {
          "output_type": "execute_result",
          "data": {
            "text/plain": [
              "dict_keys(['base_score', 'booster', 'colsample_bylevel', 'colsample_bynode', 'colsample_bytree', 'gamma', 'importance_type', 'learning_rate', 'max_delta_step', 'max_depth', 'min_child_weight', 'missing', 'n_estimators', 'n_jobs', 'nthread', 'objective', 'random_state', 'reg_alpha', 'reg_lambda', 'scale_pos_weight', 'seed', 'silent', 'subsample', 'verbosity'])"
            ]
          },
          "metadata": {},
          "execution_count": 72
        }
      ]
    },
    {
      "cell_type": "code",
      "source": [
        "parameters = {\n",
        "    \"max_depth\": [5, 6, 7],\n",
        "    \"learning_rate\": [0.1, 0.2,0.3],\n",
        "    \"objective\": ['reg:squarederror'],\n",
        "    \"booster\": ['gbtree'],\n",
        "    \"n_jobs\": [5],\n",
        "    \"gamma\": [0, 1],\n",
        "    \"min_child_weight\": [1,3],\n",
        "    \"max_delta_step\": [0,1],\n",
        "    \"subsample\": [0.5, 1]\n",
        "}"
      ],
      "metadata": {
        "id": "O4Q3TyHmgF3w"
      },
      "execution_count": null,
      "outputs": []
    },
    {
      "cell_type": "code",
      "source": [
        "xgbGrid = GridSearchCV(XGBRegressor(),parameters, refit= 'neg_mean_squared_error', verbose=True)"
      ],
      "metadata": {
        "id": "fvNnQTxHgIM8"
      },
      "execution_count": null,
      "outputs": []
    },
    {
      "cell_type": "code",
      "source": [
        "xgbGridModel = xgbGrid.fit(X_train, y_train)"
      ],
      "metadata": {
        "colab": {
          "base_uri": "https://localhost:8080/"
        },
        "id": "khwlaG7YgrKo",
        "outputId": "899ea0e2-8cb7-445d-acbf-e4da8c23adf3"
      },
      "execution_count": null,
      "outputs": [
        {
          "output_type": "stream",
          "name": "stdout",
          "text": [
            "Fitting 5 folds for each of 144 candidates, totalling 720 fits\n"
          ]
        }
      ]
    },
    {
      "cell_type": "code",
      "source": [
        "xgbGridModel.best_params_"
      ],
      "metadata": {
        "colab": {
          "base_uri": "https://localhost:8080/"
        },
        "id": "XBvnyzvAgtDO",
        "outputId": "48f5dcfd-15ce-4896-be06-0eafe7c81344"
      },
      "execution_count": null,
      "outputs": [
        {
          "output_type": "execute_result",
          "data": {
            "text/plain": [
              "{'booster': 'gbtree',\n",
              " 'gamma': 0,\n",
              " 'learning_rate': 0.1,\n",
              " 'max_delta_step': 0,\n",
              " 'max_depth': 5,\n",
              " 'min_child_weight': 1,\n",
              " 'n_jobs': 5,\n",
              " 'objective': 'reg:squarederror',\n",
              " 'subsample': 0.5}"
            ]
          },
          "metadata": {},
          "execution_count": 76
        }
      ]
    },
    {
      "cell_type": "code",
      "source": [
        "yGrid = xgbGridModel.predict(X_test)"
      ],
      "metadata": {
        "id": "QBIDxPuPguEC"
      },
      "execution_count": null,
      "outputs": []
    },
    {
      "cell_type": "code",
      "source": [
        "MSEGrid = mean_squared_error(y_test, yGrid)\n",
        "R2Grid = r2_score(y_test, yGrid)"
      ],
      "metadata": {
        "id": "bsSiGmZWg019"
      },
      "execution_count": null,
      "outputs": []
    },
    {
      "cell_type": "markdown",
      "source": [
        "## Resultado Final"
      ],
      "metadata": {
        "id": "PSDpST1Xndzc"
      }
    },
    {
      "cell_type": "markdown",
      "source": [
        "### Importância das Features"
      ],
      "metadata": {
        "id": "fy8uVgIAngIH"
      }
    },
    {
      "cell_type": "code",
      "source": [
        "regXGB.feature_importances_"
      ],
      "metadata": {
        "colab": {
          "base_uri": "https://localhost:8080/"
        },
        "id": "fClwo_2Mme4o",
        "outputId": "dd7b46ab-03e7-4232-b2cf-ad43a7a735a4"
      },
      "execution_count": null,
      "outputs": [
        {
          "output_type": "execute_result",
          "data": {
            "text/plain": [
              "array([0.03560435, 0.9467944 , 0.00713695, 0.00781668, 0.00107387,\n",
              "       0.00157388, 0.        ], dtype=float32)"
            ]
          },
          "metadata": {},
          "execution_count": 79
        }
      ]
    },
    {
      "cell_type": "code",
      "source": [
        "X_train.head(1)"
      ],
      "metadata": {
        "colab": {
          "base_uri": "https://localhost:8080/",
          "height": 81
        },
        "id": "tzNK0S_eoJY2",
        "outputId": "d6743e25-73a5-478f-fe26-8735e62849f8"
      },
      "execution_count": null,
      "outputs": [
        {
          "output_type": "execute_result",
          "data": {
            "text/plain": [
              "         X1        X2        X3       X4        X5        X6        X7\n",
              "0 -0.103498 -1.353772 -0.170488 -0.82826 -0.166405 -1.414602 -1.353772"
            ],
            "text/html": [
              "\n",
              "  <div id=\"df-7c2c6c6c-f58b-492b-b1ae-70d8290dda17\">\n",
              "    <div class=\"colab-df-container\">\n",
              "      <div>\n",
              "<style scoped>\n",
              "    .dataframe tbody tr th:only-of-type {\n",
              "        vertical-align: middle;\n",
              "    }\n",
              "\n",
              "    .dataframe tbody tr th {\n",
              "        vertical-align: top;\n",
              "    }\n",
              "\n",
              "    .dataframe thead th {\n",
              "        text-align: right;\n",
              "    }\n",
              "</style>\n",
              "<table border=\"1\" class=\"dataframe\">\n",
              "  <thead>\n",
              "    <tr style=\"text-align: right;\">\n",
              "      <th></th>\n",
              "      <th>X1</th>\n",
              "      <th>X2</th>\n",
              "      <th>X3</th>\n",
              "      <th>X4</th>\n",
              "      <th>X5</th>\n",
              "      <th>X6</th>\n",
              "      <th>X7</th>\n",
              "    </tr>\n",
              "  </thead>\n",
              "  <tbody>\n",
              "    <tr>\n",
              "      <th>0</th>\n",
              "      <td>-0.103498</td>\n",
              "      <td>-1.353772</td>\n",
              "      <td>-0.170488</td>\n",
              "      <td>-0.82826</td>\n",
              "      <td>-0.166405</td>\n",
              "      <td>-1.414602</td>\n",
              "      <td>-1.353772</td>\n",
              "    </tr>\n",
              "  </tbody>\n",
              "</table>\n",
              "</div>\n",
              "      <button class=\"colab-df-convert\" onclick=\"convertToInteractive('df-7c2c6c6c-f58b-492b-b1ae-70d8290dda17')\"\n",
              "              title=\"Convert this dataframe to an interactive table.\"\n",
              "              style=\"display:none;\">\n",
              "        \n",
              "  <svg xmlns=\"http://www.w3.org/2000/svg\" height=\"24px\"viewBox=\"0 0 24 24\"\n",
              "       width=\"24px\">\n",
              "    <path d=\"M0 0h24v24H0V0z\" fill=\"none\"/>\n",
              "    <path d=\"M18.56 5.44l.94 2.06.94-2.06 2.06-.94-2.06-.94-.94-2.06-.94 2.06-2.06.94zm-11 1L8.5 8.5l.94-2.06 2.06-.94-2.06-.94L8.5 2.5l-.94 2.06-2.06.94zm10 10l.94 2.06.94-2.06 2.06-.94-2.06-.94-.94-2.06-.94 2.06-2.06.94z\"/><path d=\"M17.41 7.96l-1.37-1.37c-.4-.4-.92-.59-1.43-.59-.52 0-1.04.2-1.43.59L10.3 9.45l-7.72 7.72c-.78.78-.78 2.05 0 2.83L4 21.41c.39.39.9.59 1.41.59.51 0 1.02-.2 1.41-.59l7.78-7.78 2.81-2.81c.8-.78.8-2.07 0-2.86zM5.41 20L4 18.59l7.72-7.72 1.47 1.35L5.41 20z\"/>\n",
              "  </svg>\n",
              "      </button>\n",
              "      \n",
              "  <style>\n",
              "    .colab-df-container {\n",
              "      display:flex;\n",
              "      flex-wrap:wrap;\n",
              "      gap: 12px;\n",
              "    }\n",
              "\n",
              "    .colab-df-convert {\n",
              "      background-color: #E8F0FE;\n",
              "      border: none;\n",
              "      border-radius: 50%;\n",
              "      cursor: pointer;\n",
              "      display: none;\n",
              "      fill: #1967D2;\n",
              "      height: 32px;\n",
              "      padding: 0 0 0 0;\n",
              "      width: 32px;\n",
              "    }\n",
              "\n",
              "    .colab-df-convert:hover {\n",
              "      background-color: #E2EBFA;\n",
              "      box-shadow: 0px 1px 2px rgba(60, 64, 67, 0.3), 0px 1px 3px 1px rgba(60, 64, 67, 0.15);\n",
              "      fill: #174EA6;\n",
              "    }\n",
              "\n",
              "    [theme=dark] .colab-df-convert {\n",
              "      background-color: #3B4455;\n",
              "      fill: #D2E3FC;\n",
              "    }\n",
              "\n",
              "    [theme=dark] .colab-df-convert:hover {\n",
              "      background-color: #434B5C;\n",
              "      box-shadow: 0px 1px 3px 1px rgba(0, 0, 0, 0.15);\n",
              "      filter: drop-shadow(0px 1px 2px rgba(0, 0, 0, 0.3));\n",
              "      fill: #FFFFFF;\n",
              "    }\n",
              "  </style>\n",
              "\n",
              "      <script>\n",
              "        const buttonEl =\n",
              "          document.querySelector('#df-7c2c6c6c-f58b-492b-b1ae-70d8290dda17 button.colab-df-convert');\n",
              "        buttonEl.style.display =\n",
              "          google.colab.kernel.accessAllowed ? 'block' : 'none';\n",
              "\n",
              "        async function convertToInteractive(key) {\n",
              "          const element = document.querySelector('#df-7c2c6c6c-f58b-492b-b1ae-70d8290dda17');\n",
              "          const dataTable =\n",
              "            await google.colab.kernel.invokeFunction('convertToInteractive',\n",
              "                                                     [key], {});\n",
              "          if (!dataTable) return;\n",
              "\n",
              "          const docLinkHtml = 'Like what you see? Visit the ' +\n",
              "            '<a target=\"_blank\" href=https://colab.research.google.com/notebooks/data_table.ipynb>data table notebook</a>'\n",
              "            + ' to learn more about interactive tables.';\n",
              "          element.innerHTML = '';\n",
              "          dataTable['output_type'] = 'display_data';\n",
              "          await google.colab.output.renderOutput(dataTable, element);\n",
              "          const docLink = document.createElement('div');\n",
              "          docLink.innerHTML = docLinkHtml;\n",
              "          element.appendChild(docLink);\n",
              "        }\n",
              "      </script>\n",
              "    </div>\n",
              "  </div>\n",
              "  "
            ]
          },
          "metadata": {},
          "execution_count": 80
        }
      ]
    },
    {
      "cell_type": "code",
      "source": [
        "# A variável X2 é a que tem a maior importância no modelo, sendo 94.68% de contribuição para o resultado do modelo."
      ],
      "metadata": {
        "id": "XmjG_Ra6oHwH"
      },
      "execution_count": null,
      "outputs": []
    },
    {
      "cell_type": "code",
      "source": [
        "# Resultado com os hiperparâmetros otimizados\n",
        "print('RMSE XGB Grid:', np.sqrt(MSEGrid))\n",
        "print('R2 XGB Grid:', R2Grid)"
      ],
      "metadata": {
        "colab": {
          "base_uri": "https://localhost:8080/"
        },
        "id": "v-bi28K6g6-J",
        "outputId": "28be9ed5-4dd0-4406-eb1a-eaa3e7fbc1c8"
      },
      "execution_count": null,
      "outputs": [
        {
          "output_type": "stream",
          "name": "stdout",
          "text": [
            "RMSE XGB Grid: 88.39489527175544\n",
            "R2 XGB Grid: 0.9951035408470853\n"
          ]
        }
      ]
    },
    {
      "cell_type": "code",
      "source": [
        "# Lista com o target observado e o target predito\n",
        "list(zip(y_test, yGrid))"
      ],
      "metadata": {
        "colab": {
          "base_uri": "https://localhost:8080/"
        },
        "id": "oTJ1l7tQiNDz",
        "outputId": "4e9f6afe-e085-4a17-9f99-dd9cc658fbb6"
      },
      "execution_count": null,
      "outputs": [
        {
          "output_type": "execute_result",
          "data": {
            "text/plain": [
              "[(3.436244142616716, 14.586692),\n",
              " (1525.839412077425, 1605.8099),\n",
              " (455.6001910204114, 450.68774),\n",
              " (0.6197594789212001, 17.918169),\n",
              " (10.99647244879627, 26.640768),\n",
              " (1538.9970024215677, 1566.6284),\n",
              " (1120.697908841679, 1081.8884),\n",
              " (1131.694281676317, 1169.6913),\n",
              " (575.8971789794581, 594.6796),\n",
              " (1762.4206341244096, 1749.2473),\n",
              " (5187.44557290687, 5690.058),\n",
              " (104.50505365594084, 127.13171),\n",
              " (1173.3597654695168, 1154.8363),\n",
              " (201.81976823714672, 171.47215),\n",
              " (1107.155927628755, 1168.8962),\n",
              " (850.3374754695748, 867.9772),\n",
              " (1042.8765757196827, 964.7497),\n",
              " (945.4616414522768, 1022.97235),\n",
              " (1572.8164733712586, 1679.6105),\n",
              " (1140.5659935610047, 1146.585),\n",
              " (110.41457644487686, 137.11166),\n",
              " (348.16429278087406, 327.44608),\n",
              " (58.29355649815622, 88.73511),\n",
              " (4624.417119726351, 4288.9355),\n",
              " (505.4668144608417, 508.97327),\n",
              " (1877.327031711008, 1951.3376),\n",
              " (222.6322000186324, 239.73485),\n",
              " (1427.0208292379489, 1461.583),\n",
              " (431.3180746626064, 475.36044),\n",
              " (4748.364444906259, 4565.1646),\n",
              " (2636.2651032307576, 2574.139),\n",
              " (70.38144773655121, 80.32806),\n",
              " (1242.3648832715044, 1534.7275),\n",
              " (215.9828160845412, 213.73914),\n",
              " (3289.1721080603093, 3448.983),\n",
              " (367.887002809706, 321.5544),\n",
              " (245.96521273257991, 222.5965),\n",
              " (6.50293703420457, 4.01703),\n",
              " (119.16700134040404, 110.96598),\n",
              " (640.531300814677, 616.8201),\n",
              " (178.10913718821763, 196.23358),\n",
              " (1342.1172705652734, 1310.344),\n",
              " (2682.8994020150626, 2873.3213),\n",
              " (1111.0461510164068, 1231.2144),\n",
              " (1663.9396457698672, 1509.7538),\n",
              " (1860.9083664902016, 1955.6237),\n",
              " (19.098248566400223, 35.599136),\n",
              " (2917.476312216967, 2993.2888),\n",
              " (98.90172932236068, 96.82464),\n",
              " (3901.2250646628618, 3939.8945),\n",
              " (925.8101221087448, 937.8335),\n",
              " (10.488717016181957, 24.992544),\n",
              " (300.3479325920533, 276.3356),\n",
              " (105.1448861777333, 106.93387),\n",
              " (623.2338285199789, 577.3528),\n",
              " (4101.021300879697, 3924.8376),\n",
              " (1286.521219626556, 1284.1145),\n",
              " (2827.166372209258, 2827.5437),\n",
              " (1871.7954777922464, 1760.3724),\n",
              " (278.1786144029681, 314.32297),\n",
              " (1640.8026990914557, 1599.163),\n",
              " (1521.6826007585255, 1494.5972),\n",
              " (905.871608681008, 861.6715),\n",
              " (1377.4815812988516, 1364.3927),\n",
              " (453.13227950844737, 606.7837),\n",
              " (2.5717204346927423, 12.195511),\n",
              " (66.99201239693436, 81.12749),\n",
              " (1223.926532107965, 1225.0176),\n",
              " (1552.9009422616678, 1646.292),\n",
              " (259.6203256502377, 259.64453),\n",
              " (994.6215349851652, 930.44904),\n",
              " (1986.904096531056, 2181.2087),\n",
              " (89.29918689359003, 104.90744),\n",
              " (2287.291111115093, 2390.5024),\n",
              " (43.006514471579614, 49.62208),\n",
              " (57.26161190609834, 95.05883),\n",
              " (3865.788272378166, 3705.2341),\n",
              " (838.9174687507928, 807.3829),\n",
              " (137.51708647253363, 140.40077),\n",
              " (663.1006025723348, 658.0997),\n",
              " (5320.563402984448, 5248.6577),\n",
              " (516.353031779261, 528.6401),\n",
              " (4820.308496278976, 5029.0337),\n",
              " (506.66653309784976, 452.65674),\n",
              " (907.891804110121, 967.8599),\n",
              " (1.9312494097477868, 17.603443),\n",
              " (401.1967100741088, 406.67587),\n",
              " (3018.529101996119, 2919.172),\n",
              " (87.83747444587448, 94.06501),\n",
              " (817.908905776323, 825.267),\n",
              " (66.78592563470198, 98.320335),\n",
              " (1122.6219260051537, 1108.1013),\n",
              " (3048.927555618967, 3230.6335),\n",
              " (278.7895190576188, 264.50208),\n",
              " (2435.8423727306194, 2411.9597),\n",
              " (535.443659491045, 523.2379),\n",
              " (1067.157350586219, 1045.9034),\n",
              " (384.44090286953934, 406.11716),\n",
              " (341.35886299515323, 340.89417),\n",
              " (1012.516835474897, 1074.565),\n",
              " (2394.8932694815, 2270.0254),\n",
              " (441.3672686712527, 434.98212),\n",
              " (2033.0566752898503, 2449.323),\n",
              " (319.81965004592354, 258.4867),\n",
              " (92.14960068382447, 103.45622),\n",
              " (214.5783836517505, 185.80153),\n",
              " (752.4891618641658, 710.6824),\n",
              " (3398.4555322491306, 3390.8657),\n",
              " (199.4430011297722, 179.85864),\n",
              " (950.6681101658538, 933.10614),\n",
              " (81.24779611709344, 150.12695),\n",
              " (4194.764981217456, 4088.7312),\n",
              " (1007.3687334970166, 1048.9114),\n",
              " (1883.0179259791323, 2065.5745),\n",
              " (848.6569411736027, 839.7565),\n",
              " (363.689287734126, 357.21698),\n",
              " (113.9481518250504, 139.25417),\n",
              " (323.3644256889344, 292.35556),\n",
              " (2602.870111202679, 2560.7212),\n",
              " (75.64220134838146, 96.48782),\n",
              " (973.0700915554708, 983.0219),\n",
              " (388.5190763442745, 392.36395),\n",
              " (452.78177307662514, 494.42737),\n",
              " (101.04519502924062, 99.91189),\n",
              " (3469.453045442854, 3412.5798),\n",
              " (43.4792482185548, 57.331223),\n",
              " (1640.784818259944, 1685.7417),\n",
              " (223.55534248501343, 225.89268),\n",
              " (641.5998693017646, 643.5912),\n",
              " (530.295923506764, 542.3437),\n",
              " (966.7916325163025, 1018.8805),\n",
              " (0.9886494910863972, 4.203979),\n",
              " (153.32506261229275, 180.94334),\n",
              " (1216.8928017054966, 1180.661),\n",
              " (2078.1832381632125, 2011.0007),\n",
              " (993.2011797690903, 953.6646),\n",
              " (939.0610031510236, 1003.22504),\n",
              " (38.5112086105698, 54.522377),\n",
              " (34.870800406044964, 75.22019),\n",
              " (1793.120225549212, 1719.3002),\n",
              " (971.0874449804884, 1006.714),\n",
              " (203.8017161858156, 181.24232),\n",
              " (8270.87727258567, 7959.795),\n",
              " (1085.5995513930293, 1159.0367),\n",
              " (1467.7795536430813, 1351.8187),\n",
              " (1462.2193581172428, 1338.8782),\n",
              " (551.9831601072522, 571.5564),\n",
              " (71.29799958200465, 103.200264),\n",
              " (310.32584279706447, 377.3114),\n",
              " (1619.528063107471, 1600.5612),\n",
              " (66.33494875519627, 105.33098),\n",
              " (1925.494574089748, 1843.2273),\n",
              " (473.4590024220232, 486.56454),\n",
              " (58.77109954279237, 75.30198),\n",
              " (611.7332330415297, 668.2971),\n",
              " (65.49977045775576, 83.737564),\n",
              " (739.4616062979001, 773.2829),\n",
              " (1370.67514604392, 1380.3425),\n",
              " (44.08624713880697, 77.637215),\n",
              " (442.1954219386006, 444.4125),\n",
              " (600.4198912120052, 542.29065),\n",
              " (408.2682054600908, 439.544),\n",
              " (170.78783530712812, 159.32124),\n",
              " (1761.6083040430904, 1781.4647),\n",
              " (2559.3604453624725, 2611.592),\n",
              " (304.2602357926266, 247.4682),\n",
              " (568.8310280905444, 563.0719),\n",
              " (2239.9636114175555, 2155.4648),\n",
              " (315.7010915173157, 301.1339),\n",
              " (364.9284926478625, 358.37833),\n",
              " (353.8182017242217, 345.8),\n",
              " (16.19338507157946, 27.540379),\n",
              " (55.31579258526807, 50.04045),\n",
              " (300.97560768615193, 262.65155),\n",
              " (1911.529343470684, 1856.556),\n",
              " (122.67205125710012, 160.73636),\n",
              " (1521.7099765989788, 1407.4685),\n",
              " (555.7852225859592, 521.73157),\n",
              " (624.57811507913, 646.95636),\n",
              " (22.858984198344427, 37.8465)]"
            ]
          },
          "metadata": {},
          "execution_count": 83
        }
      ]
    }
  ]
}
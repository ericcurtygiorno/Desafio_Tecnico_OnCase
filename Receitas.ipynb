{
  "nbformat": 4,
  "nbformat_minor": 0,
  "metadata": {
    "colab": {
      "provenance": [],
      "authorship_tag": "ABX9TyPu67s+HyM/yPIfg8lcoifp",
      "include_colab_link": true
    },
    "kernelspec": {
      "name": "python3",
      "display_name": "Python 3"
    },
    "language_info": {
      "name": "python"
    }
  },
  "cells": [
    {
      "cell_type": "markdown",
      "metadata": {
        "id": "view-in-github",
        "colab_type": "text"
      },
      "source": [
        "<a href=\"https://colab.research.google.com/github/ericcurtygiorno/Desafio_Tecnico_OnCase/blob/main/Receitas.ipynb\" target=\"_parent\"><img src=\"https://colab.research.google.com/assets/colab-badge.svg\" alt=\"Open In Colab\"/></a>"
      ]
    },
    {
      "cell_type": "code",
      "execution_count": null,
      "metadata": {
        "id": "sDTH4oGf8Buh"
      },
      "outputs": [],
      "source": [
        "import pandas as pd\n",
        "import numpy as np\n",
        "\n",
        "import matplotlib.pyplot as plt\n",
        "import seaborn as sns\n",
        "\n",
        "sns.set(rc={'figure.figsize':(11.7,8.27)}) # isso é pras figuras ficarem maiores\n",
        "import warnings\n",
        "warnings.simplefilter(\"ignore\")"
      ]
    },
    {
      "cell_type": "code",
      "source": [
        "df = pd.read_json(r'/content/receitas.json')"
      ],
      "metadata": {
        "id": "kBe-qjcb8FCg"
      },
      "execution_count": null,
      "outputs": []
    },
    {
      "cell_type": "code",
      "source": [
        "df.to_csv('receitas.csv')"
      ],
      "metadata": {
        "id": "9vQlJyIT_2ct"
      },
      "execution_count": null,
      "outputs": []
    },
    {
      "cell_type": "code",
      "source": [
        "df = pd.read_csv('/content/receitas.csv')\n",
        "df = df.drop(columns=['Unnamed: 0'])"
      ],
      "metadata": {
        "id": "qmKdxdJu_5pS"
      },
      "execution_count": null,
      "outputs": []
    },
    {
      "cell_type": "code",
      "source": [
        "df.head()"
      ],
      "metadata": {
        "colab": {
          "base_uri": "https://localhost:8080/",
          "height": 423
        },
        "id": "tFVQuNTz9eNI",
        "outputId": "1f3fc89d-ca23-4426-96c7-4ca67046533b"
      },
      "execution_count": null,
      "outputs": [
        {
          "output_type": "execute_result",
          "data": {
            "text/plain": [
              "                                          directions   fat  \\\n",
              "0  ['1. Place the stock, lentils, celery, carrot,...   7.0   \n",
              "1  ['Combine first 9 ingredients in heavy medium ...  23.0   \n",
              "2  ['In a large heavy saucepan cook diced fennel ...   7.0   \n",
              "3  ['Heat oil in heavy large skillet over medium-...   NaN   \n",
              "4  ['Preheat oven to 350°F. Lightly grease 8x8x2-...  32.0   \n",
              "\n",
              "                        date  \\\n",
              "0  2006-09-01 04:00:00+00:00   \n",
              "1  2004-08-20 04:00:00+00:00   \n",
              "2  2004-08-20 04:00:00+00:00   \n",
              "3  2009-03-27 04:00:00+00:00   \n",
              "4  2004-08-20 04:00:00+00:00   \n",
              "\n",
              "                                          categories  calories  \\\n",
              "0  ['Sandwich', 'Bean', 'Fruit', 'Tomato', 'turke...     426.0   \n",
              "1  ['Food Processor', 'Onion', 'Pork', 'Bake', 'B...     403.0   \n",
              "2  ['Soup/Stew', 'Dairy', 'Potato', 'Vegetable', ...     165.0   \n",
              "3  ['Fish', 'Olive', 'Tomato', 'Sauté', 'Low Fat'...       NaN   \n",
              "4  ['Cheese', 'Dairy', 'Pasta', 'Vegetable', 'Sid...     547.0   \n",
              "\n",
              "                                                desc  protein  rating  \\\n",
              "0                                                NaN     30.0   2.500   \n",
              "1  This uses the same ingredients found in boudin...     18.0   4.375   \n",
              "2                                                NaN      6.0   3.750   \n",
              "3  The Sicilian-style tomato sauce has tons of Me...      NaN   5.000   \n",
              "4                                                NaN     20.0   3.125   \n",
              "\n",
              "                                         title  \\\n",
              "0              Lentil, Apple, and Turkey Wrap    \n",
              "1  Boudin Blanc Terrine with Red Onion Confit    \n",
              "2                Potato and Fennel Soup Hodge    \n",
              "3             Mahi-Mahi in Tomato Olive Sauce    \n",
              "4                    Spinach Noodle Casserole    \n",
              "\n",
              "                                         ingredients  sodium  \n",
              "0  ['4 cups low-sodium vegetable or chicken stock...   559.0  \n",
              "1  ['1 1/2 cups whipping cream', '2 medium onions...  1439.0  \n",
              "2  ['1 fennel bulb (sometimes called anise), stal...   165.0  \n",
              "3  ['2 tablespoons extra-virgin olive oil', '1 cu...     NaN  \n",
              "4  ['1 12-ounce package frozen spinach soufflé, t...   452.0  "
            ],
            "text/html": [
              "\n",
              "  <div id=\"df-2b62d81c-8309-4dc4-beee-8e192ddebca8\">\n",
              "    <div class=\"colab-df-container\">\n",
              "      <div>\n",
              "<style scoped>\n",
              "    .dataframe tbody tr th:only-of-type {\n",
              "        vertical-align: middle;\n",
              "    }\n",
              "\n",
              "    .dataframe tbody tr th {\n",
              "        vertical-align: top;\n",
              "    }\n",
              "\n",
              "    .dataframe thead th {\n",
              "        text-align: right;\n",
              "    }\n",
              "</style>\n",
              "<table border=\"1\" class=\"dataframe\">\n",
              "  <thead>\n",
              "    <tr style=\"text-align: right;\">\n",
              "      <th></th>\n",
              "      <th>directions</th>\n",
              "      <th>fat</th>\n",
              "      <th>date</th>\n",
              "      <th>categories</th>\n",
              "      <th>calories</th>\n",
              "      <th>desc</th>\n",
              "      <th>protein</th>\n",
              "      <th>rating</th>\n",
              "      <th>title</th>\n",
              "      <th>ingredients</th>\n",
              "      <th>sodium</th>\n",
              "    </tr>\n",
              "  </thead>\n",
              "  <tbody>\n",
              "    <tr>\n",
              "      <th>0</th>\n",
              "      <td>['1. Place the stock, lentils, celery, carrot,...</td>\n",
              "      <td>7.0</td>\n",
              "      <td>2006-09-01 04:00:00+00:00</td>\n",
              "      <td>['Sandwich', 'Bean', 'Fruit', 'Tomato', 'turke...</td>\n",
              "      <td>426.0</td>\n",
              "      <td>NaN</td>\n",
              "      <td>30.0</td>\n",
              "      <td>2.500</td>\n",
              "      <td>Lentil, Apple, and Turkey Wrap</td>\n",
              "      <td>['4 cups low-sodium vegetable or chicken stock...</td>\n",
              "      <td>559.0</td>\n",
              "    </tr>\n",
              "    <tr>\n",
              "      <th>1</th>\n",
              "      <td>['Combine first 9 ingredients in heavy medium ...</td>\n",
              "      <td>23.0</td>\n",
              "      <td>2004-08-20 04:00:00+00:00</td>\n",
              "      <td>['Food Processor', 'Onion', 'Pork', 'Bake', 'B...</td>\n",
              "      <td>403.0</td>\n",
              "      <td>This uses the same ingredients found in boudin...</td>\n",
              "      <td>18.0</td>\n",
              "      <td>4.375</td>\n",
              "      <td>Boudin Blanc Terrine with Red Onion Confit</td>\n",
              "      <td>['1 1/2 cups whipping cream', '2 medium onions...</td>\n",
              "      <td>1439.0</td>\n",
              "    </tr>\n",
              "    <tr>\n",
              "      <th>2</th>\n",
              "      <td>['In a large heavy saucepan cook diced fennel ...</td>\n",
              "      <td>7.0</td>\n",
              "      <td>2004-08-20 04:00:00+00:00</td>\n",
              "      <td>['Soup/Stew', 'Dairy', 'Potato', 'Vegetable', ...</td>\n",
              "      <td>165.0</td>\n",
              "      <td>NaN</td>\n",
              "      <td>6.0</td>\n",
              "      <td>3.750</td>\n",
              "      <td>Potato and Fennel Soup Hodge</td>\n",
              "      <td>['1 fennel bulb (sometimes called anise), stal...</td>\n",
              "      <td>165.0</td>\n",
              "    </tr>\n",
              "    <tr>\n",
              "      <th>3</th>\n",
              "      <td>['Heat oil in heavy large skillet over medium-...</td>\n",
              "      <td>NaN</td>\n",
              "      <td>2009-03-27 04:00:00+00:00</td>\n",
              "      <td>['Fish', 'Olive', 'Tomato', 'Sauté', 'Low Fat'...</td>\n",
              "      <td>NaN</td>\n",
              "      <td>The Sicilian-style tomato sauce has tons of Me...</td>\n",
              "      <td>NaN</td>\n",
              "      <td>5.000</td>\n",
              "      <td>Mahi-Mahi in Tomato Olive Sauce</td>\n",
              "      <td>['2 tablespoons extra-virgin olive oil', '1 cu...</td>\n",
              "      <td>NaN</td>\n",
              "    </tr>\n",
              "    <tr>\n",
              "      <th>4</th>\n",
              "      <td>['Preheat oven to 350°F. Lightly grease 8x8x2-...</td>\n",
              "      <td>32.0</td>\n",
              "      <td>2004-08-20 04:00:00+00:00</td>\n",
              "      <td>['Cheese', 'Dairy', 'Pasta', 'Vegetable', 'Sid...</td>\n",
              "      <td>547.0</td>\n",
              "      <td>NaN</td>\n",
              "      <td>20.0</td>\n",
              "      <td>3.125</td>\n",
              "      <td>Spinach Noodle Casserole</td>\n",
              "      <td>['1 12-ounce package frozen spinach soufflé, t...</td>\n",
              "      <td>452.0</td>\n",
              "    </tr>\n",
              "  </tbody>\n",
              "</table>\n",
              "</div>\n",
              "      <button class=\"colab-df-convert\" onclick=\"convertToInteractive('df-2b62d81c-8309-4dc4-beee-8e192ddebca8')\"\n",
              "              title=\"Convert this dataframe to an interactive table.\"\n",
              "              style=\"display:none;\">\n",
              "        \n",
              "  <svg xmlns=\"http://www.w3.org/2000/svg\" height=\"24px\"viewBox=\"0 0 24 24\"\n",
              "       width=\"24px\">\n",
              "    <path d=\"M0 0h24v24H0V0z\" fill=\"none\"/>\n",
              "    <path d=\"M18.56 5.44l.94 2.06.94-2.06 2.06-.94-2.06-.94-.94-2.06-.94 2.06-2.06.94zm-11 1L8.5 8.5l.94-2.06 2.06-.94-2.06-.94L8.5 2.5l-.94 2.06-2.06.94zm10 10l.94 2.06.94-2.06 2.06-.94-2.06-.94-.94-2.06-.94 2.06-2.06.94z\"/><path d=\"M17.41 7.96l-1.37-1.37c-.4-.4-.92-.59-1.43-.59-.52 0-1.04.2-1.43.59L10.3 9.45l-7.72 7.72c-.78.78-.78 2.05 0 2.83L4 21.41c.39.39.9.59 1.41.59.51 0 1.02-.2 1.41-.59l7.78-7.78 2.81-2.81c.8-.78.8-2.07 0-2.86zM5.41 20L4 18.59l7.72-7.72 1.47 1.35L5.41 20z\"/>\n",
              "  </svg>\n",
              "      </button>\n",
              "      \n",
              "  <style>\n",
              "    .colab-df-container {\n",
              "      display:flex;\n",
              "      flex-wrap:wrap;\n",
              "      gap: 12px;\n",
              "    }\n",
              "\n",
              "    .colab-df-convert {\n",
              "      background-color: #E8F0FE;\n",
              "      border: none;\n",
              "      border-radius: 50%;\n",
              "      cursor: pointer;\n",
              "      display: none;\n",
              "      fill: #1967D2;\n",
              "      height: 32px;\n",
              "      padding: 0 0 0 0;\n",
              "      width: 32px;\n",
              "    }\n",
              "\n",
              "    .colab-df-convert:hover {\n",
              "      background-color: #E2EBFA;\n",
              "      box-shadow: 0px 1px 2px rgba(60, 64, 67, 0.3), 0px 1px 3px 1px rgba(60, 64, 67, 0.15);\n",
              "      fill: #174EA6;\n",
              "    }\n",
              "\n",
              "    [theme=dark] .colab-df-convert {\n",
              "      background-color: #3B4455;\n",
              "      fill: #D2E3FC;\n",
              "    }\n",
              "\n",
              "    [theme=dark] .colab-df-convert:hover {\n",
              "      background-color: #434B5C;\n",
              "      box-shadow: 0px 1px 3px 1px rgba(0, 0, 0, 0.15);\n",
              "      filter: drop-shadow(0px 1px 2px rgba(0, 0, 0, 0.3));\n",
              "      fill: #FFFFFF;\n",
              "    }\n",
              "  </style>\n",
              "\n",
              "      <script>\n",
              "        const buttonEl =\n",
              "          document.querySelector('#df-2b62d81c-8309-4dc4-beee-8e192ddebca8 button.colab-df-convert');\n",
              "        buttonEl.style.display =\n",
              "          google.colab.kernel.accessAllowed ? 'block' : 'none';\n",
              "\n",
              "        async function convertToInteractive(key) {\n",
              "          const element = document.querySelector('#df-2b62d81c-8309-4dc4-beee-8e192ddebca8');\n",
              "          const dataTable =\n",
              "            await google.colab.kernel.invokeFunction('convertToInteractive',\n",
              "                                                     [key], {});\n",
              "          if (!dataTable) return;\n",
              "\n",
              "          const docLinkHtml = 'Like what you see? Visit the ' +\n",
              "            '<a target=\"_blank\" href=https://colab.research.google.com/notebooks/data_table.ipynb>data table notebook</a>'\n",
              "            + ' to learn more about interactive tables.';\n",
              "          element.innerHTML = '';\n",
              "          dataTable['output_type'] = 'display_data';\n",
              "          await google.colab.output.renderOutput(dataTable, element);\n",
              "          const docLink = document.createElement('div');\n",
              "          docLink.innerHTML = docLinkHtml;\n",
              "          element.appendChild(docLink);\n",
              "        }\n",
              "      </script>\n",
              "    </div>\n",
              "  </div>\n",
              "  "
            ]
          },
          "metadata": {},
          "execution_count": 73
        }
      ]
    },
    {
      "cell_type": "code",
      "source": [
        "df.shape"
      ],
      "metadata": {
        "colab": {
          "base_uri": "https://localhost:8080/"
        },
        "id": "bkDgcZab_RnR",
        "outputId": "eeeb1c34-20b8-4380-e075-4b1af88c1ddc"
      },
      "execution_count": null,
      "outputs": [
        {
          "output_type": "execute_result",
          "data": {
            "text/plain": [
              "(20130, 11)"
            ]
          },
          "metadata": {},
          "execution_count": 74
        }
      ]
    },
    {
      "cell_type": "code",
      "source": [
        "df.duplicated().sum()"
      ],
      "metadata": {
        "colab": {
          "base_uri": "https://localhost:8080/"
        },
        "id": "6rSK2HaL_SR-",
        "outputId": "2ab996f1-0878-4854-cf48-f05119d8af1a"
      },
      "execution_count": null,
      "outputs": [
        {
          "output_type": "execute_result",
          "data": {
            "text/plain": [
              "1834"
            ]
          },
          "metadata": {},
          "execution_count": 75
        }
      ]
    },
    {
      "cell_type": "code",
      "source": [
        "df.isnull().sum()"
      ],
      "metadata": {
        "colab": {
          "base_uri": "https://localhost:8080/"
        },
        "id": "oAWhPEkIGozo",
        "outputId": "e14a0773-e41f-421a-c585-596d2249e01a"
      },
      "execution_count": null,
      "outputs": [
        {
          "output_type": "execute_result",
          "data": {
            "text/plain": [
              "directions       19\n",
              "fat            4222\n",
              "date             19\n",
              "categories       19\n",
              "calories       4154\n",
              "desc           6635\n",
              "protein        4201\n",
              "rating           30\n",
              "title            19\n",
              "ingredients      19\n",
              "sodium         4156\n",
              "dtype: int64"
            ]
          },
          "metadata": {},
          "execution_count": 76
        }
      ]
    },
    {
      "cell_type": "code",
      "source": [
        "df.dtypes"
      ],
      "metadata": {
        "colab": {
          "base_uri": "https://localhost:8080/"
        },
        "id": "ftAx7E0h8cjI",
        "outputId": "6121408b-0f6d-4eb0-f924-de4399db5a1e"
      },
      "execution_count": null,
      "outputs": [
        {
          "output_type": "execute_result",
          "data": {
            "text/plain": [
              "directions      object\n",
              "fat            float64\n",
              "date            object\n",
              "categories      object\n",
              "calories       float64\n",
              "desc            object\n",
              "protein        float64\n",
              "rating         float64\n",
              "title           object\n",
              "ingredients     object\n",
              "sodium         float64\n",
              "dtype: object"
            ]
          },
          "metadata": {},
          "execution_count": 77
        }
      ]
    },
    {
      "cell_type": "code",
      "source": [
        "df.describe().transpose()"
      ],
      "metadata": {
        "colab": {
          "base_uri": "https://localhost:8080/",
          "height": 206
        },
        "id": "fBGXuBXV9x8w",
        "outputId": "d8878391-af79-4e3c-f802-594f0f093c19"
      },
      "execution_count": null,
      "outputs": [
        {
          "output_type": "execute_result",
          "data": {
            "text/plain": [
              "            count         mean            std  min     25%      50%      75%  \\\n",
              "fat       15908.0   346.097498   20431.020991  0.0    7.00   17.000   33.000   \n",
              "calories  15976.0  6307.856848  358585.122970  0.0  198.00  331.000  586.000   \n",
              "protein   15929.0    99.946199    3835.616663  0.0    3.00    8.000   27.000   \n",
              "rating    20100.0     3.713060       1.343144  0.0    3.75    4.375    4.375   \n",
              "sodium    15974.0  6211.473832  332890.254083  0.0   80.00  294.000  711.000   \n",
              "\n",
              "                 max  \n",
              "fat        1722763.0  \n",
              "calories  30111218.0  \n",
              "protein     236489.0  \n",
              "rating           5.0  \n",
              "sodium    27675110.0  "
            ],
            "text/html": [
              "\n",
              "  <div id=\"df-556f1849-5afb-4dbc-813c-29432a50c8a8\">\n",
              "    <div class=\"colab-df-container\">\n",
              "      <div>\n",
              "<style scoped>\n",
              "    .dataframe tbody tr th:only-of-type {\n",
              "        vertical-align: middle;\n",
              "    }\n",
              "\n",
              "    .dataframe tbody tr th {\n",
              "        vertical-align: top;\n",
              "    }\n",
              "\n",
              "    .dataframe thead th {\n",
              "        text-align: right;\n",
              "    }\n",
              "</style>\n",
              "<table border=\"1\" class=\"dataframe\">\n",
              "  <thead>\n",
              "    <tr style=\"text-align: right;\">\n",
              "      <th></th>\n",
              "      <th>count</th>\n",
              "      <th>mean</th>\n",
              "      <th>std</th>\n",
              "      <th>min</th>\n",
              "      <th>25%</th>\n",
              "      <th>50%</th>\n",
              "      <th>75%</th>\n",
              "      <th>max</th>\n",
              "    </tr>\n",
              "  </thead>\n",
              "  <tbody>\n",
              "    <tr>\n",
              "      <th>fat</th>\n",
              "      <td>15908.0</td>\n",
              "      <td>346.097498</td>\n",
              "      <td>20431.020991</td>\n",
              "      <td>0.0</td>\n",
              "      <td>7.00</td>\n",
              "      <td>17.000</td>\n",
              "      <td>33.000</td>\n",
              "      <td>1722763.0</td>\n",
              "    </tr>\n",
              "    <tr>\n",
              "      <th>calories</th>\n",
              "      <td>15976.0</td>\n",
              "      <td>6307.856848</td>\n",
              "      <td>358585.122970</td>\n",
              "      <td>0.0</td>\n",
              "      <td>198.00</td>\n",
              "      <td>331.000</td>\n",
              "      <td>586.000</td>\n",
              "      <td>30111218.0</td>\n",
              "    </tr>\n",
              "    <tr>\n",
              "      <th>protein</th>\n",
              "      <td>15929.0</td>\n",
              "      <td>99.946199</td>\n",
              "      <td>3835.616663</td>\n",
              "      <td>0.0</td>\n",
              "      <td>3.00</td>\n",
              "      <td>8.000</td>\n",
              "      <td>27.000</td>\n",
              "      <td>236489.0</td>\n",
              "    </tr>\n",
              "    <tr>\n",
              "      <th>rating</th>\n",
              "      <td>20100.0</td>\n",
              "      <td>3.713060</td>\n",
              "      <td>1.343144</td>\n",
              "      <td>0.0</td>\n",
              "      <td>3.75</td>\n",
              "      <td>4.375</td>\n",
              "      <td>4.375</td>\n",
              "      <td>5.0</td>\n",
              "    </tr>\n",
              "    <tr>\n",
              "      <th>sodium</th>\n",
              "      <td>15974.0</td>\n",
              "      <td>6211.473832</td>\n",
              "      <td>332890.254083</td>\n",
              "      <td>0.0</td>\n",
              "      <td>80.00</td>\n",
              "      <td>294.000</td>\n",
              "      <td>711.000</td>\n",
              "      <td>27675110.0</td>\n",
              "    </tr>\n",
              "  </tbody>\n",
              "</table>\n",
              "</div>\n",
              "      <button class=\"colab-df-convert\" onclick=\"convertToInteractive('df-556f1849-5afb-4dbc-813c-29432a50c8a8')\"\n",
              "              title=\"Convert this dataframe to an interactive table.\"\n",
              "              style=\"display:none;\">\n",
              "        \n",
              "  <svg xmlns=\"http://www.w3.org/2000/svg\" height=\"24px\"viewBox=\"0 0 24 24\"\n",
              "       width=\"24px\">\n",
              "    <path d=\"M0 0h24v24H0V0z\" fill=\"none\"/>\n",
              "    <path d=\"M18.56 5.44l.94 2.06.94-2.06 2.06-.94-2.06-.94-.94-2.06-.94 2.06-2.06.94zm-11 1L8.5 8.5l.94-2.06 2.06-.94-2.06-.94L8.5 2.5l-.94 2.06-2.06.94zm10 10l.94 2.06.94-2.06 2.06-.94-2.06-.94-.94-2.06-.94 2.06-2.06.94z\"/><path d=\"M17.41 7.96l-1.37-1.37c-.4-.4-.92-.59-1.43-.59-.52 0-1.04.2-1.43.59L10.3 9.45l-7.72 7.72c-.78.78-.78 2.05 0 2.83L4 21.41c.39.39.9.59 1.41.59.51 0 1.02-.2 1.41-.59l7.78-7.78 2.81-2.81c.8-.78.8-2.07 0-2.86zM5.41 20L4 18.59l7.72-7.72 1.47 1.35L5.41 20z\"/>\n",
              "  </svg>\n",
              "      </button>\n",
              "      \n",
              "  <style>\n",
              "    .colab-df-container {\n",
              "      display:flex;\n",
              "      flex-wrap:wrap;\n",
              "      gap: 12px;\n",
              "    }\n",
              "\n",
              "    .colab-df-convert {\n",
              "      background-color: #E8F0FE;\n",
              "      border: none;\n",
              "      border-radius: 50%;\n",
              "      cursor: pointer;\n",
              "      display: none;\n",
              "      fill: #1967D2;\n",
              "      height: 32px;\n",
              "      padding: 0 0 0 0;\n",
              "      width: 32px;\n",
              "    }\n",
              "\n",
              "    .colab-df-convert:hover {\n",
              "      background-color: #E2EBFA;\n",
              "      box-shadow: 0px 1px 2px rgba(60, 64, 67, 0.3), 0px 1px 3px 1px rgba(60, 64, 67, 0.15);\n",
              "      fill: #174EA6;\n",
              "    }\n",
              "\n",
              "    [theme=dark] .colab-df-convert {\n",
              "      background-color: #3B4455;\n",
              "      fill: #D2E3FC;\n",
              "    }\n",
              "\n",
              "    [theme=dark] .colab-df-convert:hover {\n",
              "      background-color: #434B5C;\n",
              "      box-shadow: 0px 1px 3px 1px rgba(0, 0, 0, 0.15);\n",
              "      filter: drop-shadow(0px 1px 2px rgba(0, 0, 0, 0.3));\n",
              "      fill: #FFFFFF;\n",
              "    }\n",
              "  </style>\n",
              "\n",
              "      <script>\n",
              "        const buttonEl =\n",
              "          document.querySelector('#df-556f1849-5afb-4dbc-813c-29432a50c8a8 button.colab-df-convert');\n",
              "        buttonEl.style.display =\n",
              "          google.colab.kernel.accessAllowed ? 'block' : 'none';\n",
              "\n",
              "        async function convertToInteractive(key) {\n",
              "          const element = document.querySelector('#df-556f1849-5afb-4dbc-813c-29432a50c8a8');\n",
              "          const dataTable =\n",
              "            await google.colab.kernel.invokeFunction('convertToInteractive',\n",
              "                                                     [key], {});\n",
              "          if (!dataTable) return;\n",
              "\n",
              "          const docLinkHtml = 'Like what you see? Visit the ' +\n",
              "            '<a target=\"_blank\" href=https://colab.research.google.com/notebooks/data_table.ipynb>data table notebook</a>'\n",
              "            + ' to learn more about interactive tables.';\n",
              "          element.innerHTML = '';\n",
              "          dataTable['output_type'] = 'display_data';\n",
              "          await google.colab.output.renderOutput(dataTable, element);\n",
              "          const docLink = document.createElement('div');\n",
              "          docLink.innerHTML = docLinkHtml;\n",
              "          element.appendChild(docLink);\n",
              "        }\n",
              "      </script>\n",
              "    </div>\n",
              "  </div>\n",
              "  "
            ]
          },
          "metadata": {},
          "execution_count": 78
        }
      ]
    },
    {
      "cell_type": "code",
      "source": [
        "# Removendo Duplicados\n",
        "df = df.drop_duplicates()\n",
        "df.shape"
      ],
      "metadata": {
        "colab": {
          "base_uri": "https://localhost:8080/"
        },
        "id": "sImqsX_VAzv6",
        "outputId": "5974653d-3b2a-4349-a3cf-51ce24cd8353"
      },
      "execution_count": null,
      "outputs": [
        {
          "output_type": "execute_result",
          "data": {
            "text/plain": [
              "(18296, 11)"
            ]
          },
          "metadata": {},
          "execution_count": 79
        }
      ]
    },
    {
      "cell_type": "code",
      "source": [
        "# Tratando os Nulos\n",
        "df = df.dropna(subset=['directions', 'fat', 'date', 'categories', 'calories', 'protein', 'title', 'ingredients', 'sodium'])\n",
        "\n",
        "''' Tomei a liberdade de excluir a maioria das variáveis\n",
        "Mantive somente com valores nulos a \"desc\" (descrição), pois acredito que a variável directions já funciona bem e o desc seria um comentário a mais caso necessário.\n",
        "E também mantive o rating, pois são receitas que ainda não foram ranqueadas.\n",
        "\n",
        "As outras variáveis eu removi os nulos pois não acredito que os valores nutricionais seriam bons sendo preenchidos com média e/ou mediana,\n",
        "além de uma possível aplicação de um modelo de recomendação todos esses valores nulos atrapalhariam.\n",
        "'''\n",
        "\n",
        "df.shape"
      ],
      "metadata": {
        "colab": {
          "base_uri": "https://localhost:8080/"
        },
        "id": "eMo61s9VH4BN",
        "outputId": "5c70481d-f385-4e83-cb2b-8f98eb17bba3"
      },
      "execution_count": null,
      "outputs": [
        {
          "output_type": "execute_result",
          "data": {
            "text/plain": [
              "(14475, 11)"
            ]
          },
          "metadata": {},
          "execution_count": 80
        }
      ]
    },
    {
      "cell_type": "code",
      "source": [
        "# Transformando a variável Date para Date e deixando somente a data\n",
        "\n",
        "# Transformando em data\n",
        "df['date'] = pd.to_datetime(df['date'])\n",
        "\n",
        "# Ajustando a variável (excluindo os demais caractéres que não sejam data)\n",
        "df['date'] = df['date'].dt.strftime('%Y%m%d')\n",
        "\n",
        "# Ajustando a data para o formato anterior\n",
        "df['date'] = pd.to_datetime(df['date'], format='%Y-%m-%d')"
      ],
      "metadata": {
        "id": "-0hPOmTxEskB"
      },
      "execution_count": null,
      "outputs": []
    },
    {
      "cell_type": "code",
      "source": [
        "df.dtypes"
      ],
      "metadata": {
        "colab": {
          "base_uri": "https://localhost:8080/"
        },
        "id": "EWlHrHLvDQYB",
        "outputId": "7990917c-699f-4814-cca4-9a7ca0a513b4"
      },
      "execution_count": null,
      "outputs": [
        {
          "output_type": "execute_result",
          "data": {
            "text/plain": [
              "directions             object\n",
              "fat                   float64\n",
              "date           datetime64[ns]\n",
              "categories             object\n",
              "calories              float64\n",
              "desc                   object\n",
              "protein               float64\n",
              "rating                float64\n",
              "title                  object\n",
              "ingredients            object\n",
              "sodium                float64\n",
              "dtype: object"
            ]
          },
          "metadata": {},
          "execution_count": 82
        }
      ]
    },
    {
      "cell_type": "code",
      "source": [
        "df_clean = df.copy()"
      ],
      "metadata": {
        "id": "glG_9K4-LV08"
      },
      "execution_count": null,
      "outputs": []
    },
    {
      "cell_type": "code",
      "source": [
        "# Tratamento de outliers\n",
        "Q1=df_clean['fat'].quantile(0.25)\n",
        "Q3=df_clean['fat'].quantile(0.75)\n",
        "IQR=Q3-Q1\n",
        "print(\"Q1\", Q1)\n",
        "print(\"Q3\", Q3)\n",
        "print(\"IQR\", IQR)\n",
        "lower_bound = Q1-1.5*IQR\n",
        "upper_bound = Q3+1.5*IQR\n",
        "print(upper_bound)"
      ],
      "metadata": {
        "colab": {
          "base_uri": "https://localhost:8080/"
        },
        "id": "-tyIIBP0LJE_",
        "outputId": "a7a53339-e594-45d9-ac90-f9277695ebda"
      },
      "execution_count": null,
      "outputs": [
        {
          "output_type": "stream",
          "name": "stdout",
          "text": [
            "Q1 8.0\n",
            "Q3 34.0\n",
            "IQR 26.0\n",
            "73.0\n"
          ]
        }
      ]
    },
    {
      "cell_type": "code",
      "source": [
        "Q1=df_clean['calories'].quantile(0.25)\n",
        "Q3=df_clean['calories'].quantile(0.75)\n",
        "IQR=Q3-Q1\n",
        "print(\"Q1\", Q1)\n",
        "print(\"Q3\", Q3)\n",
        "print(\"IQR\", IQR)\n",
        "lower_bound = Q1-1.5*IQR\n",
        "upper_bound = Q3+1.5*IQR\n",
        "print(upper_bound)"
      ],
      "metadata": {
        "colab": {
          "base_uri": "https://localhost:8080/"
        },
        "id": "GZvgf2hXZ0aP",
        "outputId": "aa923dac-356c-46ff-e519-b603e9cf5fab"
      },
      "execution_count": null,
      "outputs": [
        {
          "output_type": "stream",
          "name": "stdout",
          "text": [
            "Q1 206.0\n",
            "Q3 600.0\n",
            "IQR 394.0\n",
            "1191.0\n"
          ]
        }
      ]
    },
    {
      "cell_type": "code",
      "source": [
        "Q1=df_clean['protein'].quantile(0.25)\n",
        "Q3=df_clean['protein'].quantile(0.75)\n",
        "IQR=Q3-Q1\n",
        "print(\"Q1\", Q1)\n",
        "print(\"Q3\", Q3)\n",
        "print(\"IQR\", IQR)\n",
        "lower_bound = Q1-1.5*IQR\n",
        "upper_bound = Q3+1.5*IQR\n",
        "print(upper_bound)"
      ],
      "metadata": {
        "colab": {
          "base_uri": "https://localhost:8080/"
        },
        "id": "EqDszCloZ1Ey",
        "outputId": "0f193e18-2438-415b-9fb5-ed4833681f72"
      },
      "execution_count": null,
      "outputs": [
        {
          "output_type": "stream",
          "name": "stdout",
          "text": [
            "Q1 3.0\n",
            "Q3 28.0\n",
            "IQR 25.0\n",
            "65.5\n"
          ]
        }
      ]
    },
    {
      "cell_type": "code",
      "source": [
        "Q1=df_clean['sodium'].quantile(0.25)\n",
        "Q3=df_clean['sodium'].quantile(0.75)\n",
        "IQR=Q3-Q1\n",
        "print(\"Q1\", Q1)\n",
        "print(\"Q3\", Q3)\n",
        "print(\"IQR\", IQR)\n",
        "lower_bound = Q1-1.5*IQR\n",
        "upper_bound = Q3+1.5*IQR\n",
        "print(upper_bound)"
      ],
      "metadata": {
        "colab": {
          "base_uri": "https://localhost:8080/"
        },
        "id": "2eOgVhLrZ1c5",
        "outputId": "a76beebd-3154-41a6-8d50-f0d4a0b92508"
      },
      "execution_count": null,
      "outputs": [
        {
          "output_type": "stream",
          "name": "stdout",
          "text": [
            "Q1 90.0\n",
            "Q3 734.0\n",
            "IQR 644.0\n",
            "1700.0\n"
          ]
        }
      ]
    },
    {
      "cell_type": "code",
      "source": [
        "df_clean.drop(df_clean[df_clean.fat > 73].index,axis =0, inplace = True)\n",
        "df_clean.drop(df_clean[df_clean.calories > 1191].index,axis =0, inplace = True)\n",
        "df_clean.drop(df_clean[df_clean.protein > 65.5].index,axis =0, inplace = True)\n",
        "df_clean.drop(df_clean[df_clean.sodium > 1700].index,axis =0, inplace = True)"
      ],
      "metadata": {
        "id": "E5-rSKnqWF9x"
      },
      "execution_count": null,
      "outputs": []
    },
    {
      "cell_type": "code",
      "source": [
        "df.shape"
      ],
      "metadata": {
        "colab": {
          "base_uri": "https://localhost:8080/"
        },
        "id": "ed3vxOFIdZG0",
        "outputId": "26b54462-8a90-4895-d794-1f1173faf8ac"
      },
      "execution_count": null,
      "outputs": [
        {
          "output_type": "execute_result",
          "data": {
            "text/plain": [
              "(14475, 11)"
            ]
          },
          "metadata": {},
          "execution_count": 89
        }
      ]
    },
    {
      "cell_type": "code",
      "source": [
        "df_clean.shape"
      ],
      "metadata": {
        "colab": {
          "base_uri": "https://localhost:8080/"
        },
        "id": "UsRdvWlvZsnZ",
        "outputId": "35141e33-d266-4a3e-f0df-0a0eb0b43d26"
      },
      "execution_count": null,
      "outputs": [
        {
          "output_type": "execute_result",
          "data": {
            "text/plain": [
              "(12440, 11)"
            ]
          },
          "metadata": {},
          "execution_count": 90
        }
      ]
    },
    {
      "cell_type": "code",
      "source": [
        "mask = np.triu(np.ones_like(df_clean.corr(),dtype=bool))\n",
        "sns.heatmap(df_clean.corr(), cmap='BrBG', mask=mask, square=False,annot=True);"
      ],
      "metadata": {
        "colab": {
          "base_uri": "https://localhost:8080/",
          "height": 500
        },
        "id": "UgWbS9Xxdw9G",
        "outputId": "81633ec5-d77c-4591-de07-4ea031fbc2cf"
      },
      "execution_count": null,
      "outputs": [
        {
          "output_type": "display_data",
          "data": {
            "text/plain": [
              "<Figure size 842.4x595.44 with 2 Axes>"
            ],
            "image/png": "[encoded data removed]"
          },
          "metadata": {}
        }
      ]
    },
    {
      "cell_type": "code",
      "source": [
        "# \"fat\" e \"calories\" tem uma forte correlação positiva\n",
        "# \"fat\" e \"protein\" tem uma média correlação positiva\n",
        "# \"calories\" e \"protein\" tem uma boa correlação positiva\n",
        "# \"sodium\" tem uma correlação positiva ok com \"fat\" e \"calories\" e média correlação com \"protein\""
      ],
      "metadata": {
        "id": "Jn1olP2qpLqX"
      },
      "execution_count": null,
      "outputs": []
    }
  ]
}